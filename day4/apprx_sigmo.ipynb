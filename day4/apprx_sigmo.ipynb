{
 "cells": [
  {
   "cell_type": "code",
   "execution_count": 4,
   "metadata": {
    "autoscroll": "json-false",
    "collapsed": false,
    "ein.tags": [
     "worksheet-0"
    ],
    "slideshow": {
     "slide_type": "-"
    }
   },
   "outputs": [],
   "source": [
    "import tensorflow as tf\n",
    "import numpy as np\n",
    "import matplotlib.pyplot as plt\n"
   ]
  },
  {
   "cell_type": "markdown",
   "metadata": {
    "ein.tags": [
     "worksheet-0"
    ],
    "slideshow": {
     "slide_type": "-"
    }
   },
   "source": [
    "* *func_* = the function we want to describe\n",
    "* *func* = the function which describes func"
   ]
  },
  {
   "cell_type": "code",
   "execution_count": 5,
   "metadata": {
    "autoscroll": "json-false",
    "collapsed": false,
    "ein.tags": [
     "worksheet-0"
    ],
    "slideshow": {
     "slide_type": "-"
    }
   },
   "outputs": [],
   "source": [
    "# Dataset(xys) = dataset with next_batch\n",
    "# with batch\n",
    "\n",
    "class Dataset:\n",
    "    def __init__(self, xys):    # xys: Lx2\n",
    "\n",
    "        # type(dom)=numpy.array\n",
    "\n",
    "        np.random.shuffle(xys)  # shuffle xys\n",
    "        self.xs, self.ys = np.hsplit(xys, [1]) # Lx1\n",
    "        self.data = xys\n",
    "        self.index = 0  # for next_batch below\n",
    "        self.leng = len(xys)\n",
    "\n",
    "    def next_batch(self, n):\n",
    "        if self.index + n > self.leng:\n",
    "            self.index = 0\n",
    "\n",
    "        ind = self.index\n",
    "        batch_xs = self.xs[:, ind: ind + n]\n",
    "        batch_ys = self.ys[:, ind: ind + n]\n",
    "        self.index += n\n",
    "        return batch_xs, batch_ys\n",
    "\n",
    "\n",
    "def create_graph(func_, dom):\n",
    "    xs = dom\n",
    "    ys = func_(dom)              # map dom with func\n",
    "    return np.c_[xs, ys]         # Lx2"
   ]
  },
  {
   "cell_type": "code",
   "execution_count": 16,
   "metadata": {
    "autoscroll": "json-false",
    "collapsed": false,
    "ein.tags": [
     "worksheet-0"
    ],
    "slideshow": {
     "slide_type": "-"
    }
   },
   "outputs": [],
   "source": [
    "def plot_result(func, dataset, save_cond=[False, \"\"]):\n",
    "\n",
    "    fig = plt.figure()\n",
    "    subplot = fig.add_subplot(1, 1, 1)\n",
    "\n",
    "    # plot func\n",
    "    x_min = np.min(dataset.xs)\n",
    "    x_max = np.max(dataset.xs)\n",
    "    margin = (x_max - x_min) / 100\n",
    "    left = x_min - margin\n",
    "    right = x_max + margin\n",
    "    dom = np.arange(left, right, margin)\n",
    "    cod = func(dom)\n",
    "    subplot.plot(dom, cod, color='red')\n",
    "\n",
    "    # plot dataset\n",
    "    xs = dataset.data[:, 0]\n",
    "    y_s = dataset.data[:, 1]\n",
    "    subplot.scatter(xs, y_s, color='blue')\n",
    "\n",
    "    plt.show()\n",
    "    \n",
    "    [do_save, name] = save_cond\n",
    "    if do_save:\n",
    "        fig.savefig(name)\n",
    "    fig.clf()\n"
   ]
  },
  {
   "cell_type": "code",
   "execution_count": 39,
   "metadata": {
    "autoscroll": "json-false",
    "collapsed": false,
    "ein.tags": [
     "worksheet-0"
    ],
    "slideshow": {
     "slide_type": "-"
    }
   },
   "outputs": [],
   "source": [
    "def model_5(dataset):\n",
    "\n",
    "    # The shape of pows should be nx2 to do with the meaning\n",
    "\n",
    "    # Create the model\n",
    "    pows = tf.placeholder(tf.float32, [None, 6])\n",
    "    coeffs = tf.Variable(tf.zeros([6, 1]))\n",
    "    y = tf.matmul(pows, coeffs) # nx1\n",
    "    \n",
    "    # Define loss and optimizer\n",
    "    y_ = tf.placeholder(tf.float32, [None, 1])\n",
    "    error = tf.reduce_sum(tf.square(y_ - y))\n",
    "    eps = 0.001\n",
    "    train_step = tf.train.GradientDescentOptimizer(eps).minimize(error)\n",
    "\n",
    "    # modify dataset\n",
    "    mult = dataset.data.flatten().mean()\n",
    "    dim0 = mult * np.ones(dataset.leng)\n",
    "    dim1 = dataset.xs.reshape(dataset.leng)\n",
    "    dim2 = dim1 * dim1\n",
    "    dim3 = dim2 * dim1\n",
    "    dim4 = dim3 * dim1\n",
    "    dim5 = dim4 * dim1\n",
    "\n",
    "    dataset.pows = np.c_[dim5, dim4, dim3, dim2, dim1, dim0]\n",
    "\n",
    "    ind0 = dataset.leng - 100\n",
    "    dataset.leng_100 = ind0\n",
    "    dataset.test_pows = dataset.pows[ind0: ind0 + 100]\n",
    "    dataset.test_ys = dataset.ys[ind0: ind0 + 100]\n",
    "\n",
    "    def next_batch(n):\n",
    "        if dataset.index + n > dataset.leng_100:\n",
    "            dataset.index = 0\n",
    "\n",
    "        ind = dataset.index\n",
    "        batch_pows = dataset.pows[ind: ind + n]\n",
    "        batch_ys = dataset.ys[ind: ind + n]\n",
    "        dataset.index += n\n",
    "        return batch_pows, batch_ys\n",
    "\n",
    "\n",
    "    # Train\n",
    "    init_op = tf.initialize_all_variables()\n",
    "    loop_times0 = 20\n",
    "    loop_times = 1000\n",
    "\n",
    "    # dataset.leng / 10 is not so important\n",
    "\n",
    "    with tf.Session() as sess:\n",
    "        sess.run(init_op)\n",
    "        log_data = []\n",
    "        feed = {pows: dataset.test_pows, y_: dataset.test_ys}\n",
    "\n",
    "        print(\"------------------------\")\n",
    "\n",
    "        for _ in range(loop_times0):\n",
    "            batch_pows, batch_ys = next_batch(100)\n",
    "            feed0={pows: batch_pows, y_: batch_ys}\n",
    "            sess.run(train_step, feed_dict=feed0)\n",
    "            log_data.append(sess.run(error, feed_dict=feed))\n",
    "            print(sess.run(error, feed_dict=feed0))\n",
    "\n",
    "        print(\"------------------------\")\n",
    "\n",
    "        for _ in range(loop_times):\n",
    "            batch_pows, batch_ys = next_batch(100)\n",
    "            feed0={pows: batch_pows, y_: batch_ys}\n",
    "            sess.run(train_step, feed_dict=feed0)\n",
    "            log_data.append(sess.run(error, feed_dict=feed))\n",
    "        print(\"------------------------\")\n",
    "\n",
    "        for _ in range(loop_times0):\n",
    "            batch_pows, batch_ys = next_batch(100)\n",
    "            feed0={pows: batch_pows, y_: batch_ys}\n",
    "            sess.run(train_step, feed_dict=feed0)\n",
    "            log_data.append(sess.run(error, feed_dict=feed))\n",
    "            print(sess.run(error, feed_dict=feed0))\n",
    "        print(\"------------------------\")\n",
    "        coeffsfin = sess.run(coeffs)\n",
    "        print(coeffsfin)    \n",
    "        val1 = sess.run(y, feed_dict={pows: [[1, 1, 1, 1, 1, mult]]})\n",
    "        val0 = sess.run(y, feed_dict={pows: [[0, 0, 0, 0, 0, mult]]})\n",
    "        print(val1)\n",
    "        print(val0)\n",
    "        print()\n",
    "    np.save(\"./coeffs_1.npy\", coeffsfin)\n",
    "    np.save(\"./log_data.npy\", log_data)    \n",
    "    \n",
    "    \n",
    "    # def func(x):\n",
    "    #     x2 = x * x\n",
    "    #     x3 = x2 * x\n",
    "    #     x4 = x3 * x\n",
    "    #     x5 = x4 * x\n",
    "    #     pows = np.array([x5, x4, x3, x2, x, mult])\n",
    "    #     return np.sum(pows * coeffsfin.reshape(6))\n",
    "\n",
    "    coeffs_modified = coeffsfin.reshape(6)\n",
    "    coeffs_modified[5] = coeffs_modified[5] * mult\n",
    "    print(coeffs_modified)\n",
    "    print(np.polyval(coeffs_modified, 1))\n",
    "    print(np.polyval(coeffs_modified, 0))\n",
    "\n",
    "    # return func\n",
    "    return (lambda x: np.polyval(coeffs_modified, x))\n"
   ]
  },
  {
   "cell_type": "code",
   "execution_count": 12,
   "metadata": {
    "autoscroll": "json-false",
    "collapsed": false,
    "ein.tags": [
     "worksheet-0"
    ],
    "slideshow": {
     "slide_type": "-"
    }
   },
   "outputs": [],
   "source": [
    "def main(dataset, model, shower):\n",
    "    shower(model(dataset), dataset)"
   ]
  },
  {
   "cell_type": "code",
   "execution_count": 43,
   "metadata": {
    "autoscroll": "json-false",
    "collapsed": false,
    "ein.tags": [
     "worksheet-0"
    ],
    "slideshow": {
     "slide_type": "-"
    }
   },
   "outputs": [
    {
     "name": "stdout",
     "output_type": "stream",
     "text": [
      "------------------------\n",
      "238.583\n",
      "22.3203\n",
      "2.14623\n",
      "0.24037\n",
      "0.0675118\n",
      "0.0544062\n",
      "0.0632561\n",
      "0.0578924\n",
      "0.0493878\n",
      "0.0492742\n",
      "0.0401909\n",
      "0.0404389\n",
      "0.0452268\n",
      "0.0541783\n",
      "0.0493619\n",
      "0.0422722\n",
      "0.0421294\n",
      "0.0343639\n",
      "0.034558\n",
      "0.0388036\n",
      "------------------------\n"
     ]
    },
    {
     "name": "stdout",
     "output_type": "stream",
     "text": [
      "------------------------\n",
      "0.000230552\n",
      "0.000297619\n",
      "0.00029276\n",
      "0.000230774\n",
      "0.000244422\n",
      "0.000237785\n",
      "0.000177626\n",
      "0.000229007\n",
      "0.000295647\n",
      "0.000290759\n",
      "0.000229252\n",
      "0.000242808\n",
      "0.000236163\n",
      "0.000176433\n",
      "0.000227486\n",
      "0.000293702\n",
      "0.000288768\n",
      "0.000227744\n",
      "0.000241189\n",
      "0.000234561\n",
      "------------------------\n",
      "[[ 0.00324492]\n",
      " [ 0.00928227]\n",
      " [ 0.01232703]\n",
      " [ 0.06206676]\n",
      " [ 0.00578322]\n",
      " [ 1.95898926]]\n",
      "[[ 5.09383392]]\n",
      "[[ 5.00112963]]\n",
      "\n",
      "[  3.24492226e-03   9.28226858e-03   1.23270294e-02   6.20667562e-02\n",
      "   5.78322029e-03   5.00112963e+00]\n",
      "5.09383382392\n",
      "5.00112962723\n"
     ]
    },
    {
     "data": {
      "image/png": "[encoded data removed]",
      "text/plain": [
       "<matplotlib.figure.Figure at 0x7fcad883af98>"
      ]
     },
     "metadata": {},
     "output_type": "display_data"
    }
   ],
   "source": [
    "def my_po(x):\n",
    "    return (0.001 * x**5 + 0.1 * x**2 + 5)\n",
    "def my_sigmo(x):\n",
    "    a = np.exp(2 * x)\n",
    "    return (a - 1) / (a + 1)\n",
    "# plot_result(func, dataset, save_cond=[False, \"\"]):\n",
    "xys = np.arange(-0.3, 0.5, 0.001)\n",
    "main(Dataset(create_graph(my_po, xys)), model_5, plot_result)"
   ]
  },
  {
   "cell_type": "code",
   "execution_count": 35,
   "metadata": {
    "autoscroll": "json-false",
    "collapsed": false,
    "ein.tags": [
     "worksheet-0"
    ],
    "slideshow": {
     "slide_type": "-"
    }
   },
   "outputs": [
    {
     "data": {
      "image/png": "[encoded data removed]",
      "text/plain": [
       "<matplotlib.figure.Figure at 0x7fcad8979dd8>"
      ]
     },
     "metadata": {},
     "output_type": "display_data"
    }
   ],
   "source": [
    "def draw_error():\n",
    "    log_data = np.load(\"./log_data.npy\")\n",
    "    fig = plt.figure()\n",
    "    sub_plot = fig.add_subplot(1, 1, 1)\n",
    "    xs = np.arange(log_data.size)\n",
    "    ys = np.log(log_data)\n",
    "    sub_plot.plot(xs, ys)\n",
    "    plt.show()\n",
    "    fig.clf()\n",
    "draw_error()"
   ]
  }
 ],
 "metadata": {
  "kernelspec": {
   "display_name": "Python 3",
   "name": "python3"
  },
  "name": "calc_sigmo_3.ipynb"
 },
 "nbformat": 4,
 "nbformat_minor": 1
}
