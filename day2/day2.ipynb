{
 "cells": [
  {
   "cell_type": "code",
   "execution_count": 1,
   "metadata": {
    "autoscroll": "json-false",
    "collapsed": false,
    "ein.tags": [
     "worksheet-0"
    ],
    "slideshow": {
     "slide_type": "-"
    }
   },
   "outputs": [],
   "source": [
    "import tensorflow as tf"
   ]
  },
  {
   "cell_type": "code",
   "execution_count": 2,
   "metadata": {
    "autoscroll": "json-false",
    "collapsed": false,
    "ein.tags": [
     "worksheet-0"
    ],
    "slideshow": {
     "slide_type": "-"
    }
   },
   "outputs": [
    {
     "name": "stdout",
     "output_type": "stream",
     "text": [
      "3.0\n"
     ]
    }
   ],
   "source": [
    "three = tf.constant(3.)\n",
    "\n",
    "with tf.Session() as sess:\n",
    "    print(sess.run(three))"
   ]
  },
  {
   "cell_type": "code",
   "execution_count": 3,
   "metadata": {
    "autoscroll": "json-false",
    "collapsed": false,
    "ein.tags": [
     "worksheet-0"
    ],
    "slideshow": {
     "slide_type": "-"
    }
   },
   "outputs": [
    {
     "name": "stdout",
     "output_type": "stream",
     "text": [
      "[[ 12.]]\n"
     ]
    }
   ],
   "source": [
    "matrix1 = tf.constant([[3., 3.]])\n",
    "\n",
    "matrix2 = tf.constant([[2.], [2.]])\n",
    "\n",
    "product = tf.matmul(matrix1, matrix2)\n",
    "\n",
    "with tf.Session() as sess:\n",
    "    print(sess.run(product))\n"
   ]
  },
  {
   "cell_type": "code",
   "execution_count": 4,
   "metadata": {
    "autoscroll": "json-false",
    "collapsed": false,
    "ein.tags": [
     "worksheet-0"
    ],
    "slideshow": {
     "slide_type": "-"
    }
   },
   "outputs": [
    {
     "name": "stdout",
     "output_type": "stream",
     "text": [
      "<class 'list'>\n",
      "<class 'numpy.ndarray'>\n",
      "<class 'numpy.ndarray'>\n"
     ]
    }
   ],
   "source": [
    "import numpy as np\n",
    "\n",
    "arr0 = [1, 3, 5]\n",
    "arr1 = np.array([1, 3, 5])\n",
    "arr1_1 = np.array(arr0)\n",
    "print(type(arr0))\n",
    "print(type(arr1))\n",
    "print(type(arr1_1))"
   ]
  },
  {
   "cell_type": "code",
   "execution_count": 5,
   "metadata": {
    "autoscroll": "json-false",
    "collapsed": false,
    "ein.tags": [
     "worksheet-0"
    ],
    "slideshow": {
     "slide_type": "-"
    }
   },
   "outputs": [
    {
     "name": "stdout",
     "output_type": "stream",
     "text": [
      "[ 0  1  2  3  4  5  6  7  8  9 10 11 12 13 14 15 16 17 18 19]\n",
      "[[ 0  1  2  3  4]\n",
      " [ 5  6  7  8  9]\n",
      " [10 11 12 13 14]\n",
      " [15 16 17 18 19]]\n",
      "(4, 5)\n",
      "(20,)\n",
      "2\n",
      "1\n",
      "[5 3 9 7 2 8]\n"
     ]
    }
   ],
   "source": [
    "arr2 = np.arange(20)\n",
    "print(arr2)\n",
    "\n",
    "arr3 = arr2.reshape(4, 5)\n",
    "print(arr3)\n",
    "print(arr3.shape)\n",
    "print(arr2.shape)\n",
    "print(arr3.ndim)\n",
    "print(arr2.ndim)\n",
    "\n",
    "arr4 = np.random.randint(10, size=6)\n",
    "print(arr4)"
   ]
  },
  {
   "cell_type": "code",
   "execution_count": 6,
   "metadata": {
    "autoscroll": "json-false",
    "collapsed": false,
    "ein.tags": [
     "worksheet-0"
    ],
    "slideshow": {
     "slide_type": "-"
    }
   },
   "outputs": [
    {
     "name": "stdout",
     "output_type": "stream",
     "text": [
      "[[4 2 5 3 0]\n",
      " [5 0 5 2 0]\n",
      " [4 8 0 7 2]]\n",
      "[[12  6 15  9  0]\n",
      " [15  0 15  6  0]\n",
      " [12 24  0 21  6]]\n",
      "[[5 3 6 4 1]\n",
      " [6 1 6 3 1]\n",
      " [5 9 1 8 3]]\n",
      "[[8 4 5 2 7]\n",
      " [3 7 4 6 1]\n",
      " [2 5 8 0 5]]\n",
      "[[12  6 10  5  7]\n",
      " [ 8  7  9  8  1]\n",
      " [ 6 13  8  7  7]]\n",
      "[[32  8 25  6  0]\n",
      " [15  0 20 12  0]\n",
      " [ 8 40  0  0 10]]\n",
      "[[4 2 5 3 0]\n",
      " [5 0 5 2 0]\n",
      " [4 8 0 7 2]]\n",
      "[[16  4 25  9  0]\n",
      " [25  0 25  4  0]\n",
      " [16 64  0 49  4]]\n"
     ]
    }
   ],
   "source": [
    "from numpy.random import randint\n",
    "\n",
    "arr5 = randint(10, size=(3, 5))\n",
    "print(arr5)\n",
    "\n",
    "print(arr5 * 3)\n",
    "print(arr5 + 1)\n",
    "\n",
    "arr6 = randint(10, size=(3, 5))\n",
    "print(arr6)\n",
    "\n",
    "print(arr5 + arr6)\n",
    "print(arr5 * arr6)\n",
    "\n",
    "\n",
    "def sq(x):\n",
    "    return(x * x)\n",
    "\n",
    "print(arr5)\n",
    "print(sq(arr5))"
   ]
  },
  {
   "cell_type": "code",
   "execution_count": 7,
   "metadata": {
    "autoscroll": "json-false",
    "collapsed": false,
    "ein.tags": [
     "worksheet-0"
    ],
    "slideshow": {
     "slide_type": "-"
    }
   },
   "outputs": [
    {
     "name": "stdout",
     "output_type": "stream",
     "text": [
      "[-0.67852307 -0.79438437  0.4955403   0.75803833 -0.36254698  0.84734273\n",
      "  1.12809585  0.78500713 -0.15220105 -1.26818212]\n",
      "[-0.80455239 -0.53190621  0.73965068 -1.07219426 -2.47496091]\n",
      "[5 2 4 5 9]\n",
      "float64\n",
      "int64\n"
     ]
    }
   ],
   "source": [
    "print(np.random.randn(10))\n",
    "\n",
    "from numpy.random import randn\n",
    "\n",
    "arr7 = randn(5)\n",
    "print(arr7)\n",
    "\n",
    "arr8 = randint(10, size=5)\n",
    "print(arr8)\n",
    "\n",
    "print(arr7.dtype)\n",
    "print(arr8.dtype)"
   ]
  },
  {
   "cell_type": "code",
   "execution_count": 8,
   "metadata": {
    "autoscroll": "json-false",
    "collapsed": false,
    "ein.tags": [
     "worksheet-0"
    ],
    "slideshow": {
     "slide_type": "-"
    }
   },
   "outputs": [
    {
     "name": "stdout",
     "output_type": "stream",
     "text": [
      "[ 0.  0.  0.  0.  0.  0.  0.  0.  0.  0.]\n",
      "[[ 0.  0.  0.  0.  0.]\n",
      " [ 0.  0.  0.  0.  0.]\n",
      " [ 0.  0.  0.  0.  0.]]\n",
      "[ 1.  1.  1.  1.  1.  1.  1.  1.  1.  1.]\n"
     ]
    }
   ],
   "source": [
    "print(np.zeros(10))\n",
    "print(np.zeros((3, 5)))\n",
    "print(np.ones(10))"
   ]
  },
  {
   "cell_type": "code",
   "execution_count": 9,
   "metadata": {
    "autoscroll": "json-false",
    "collapsed": false,
    "ein.tags": [
     "worksheet-0"
    ],
    "slideshow": {
     "slide_type": "-"
    }
   },
   "outputs": [
    {
     "name": "stdout",
     "output_type": "stream",
     "text": [
      "[9 6 7 0 5 6 3 3 1 5 0 3 5 8 1 3 6 9 9 4]\n",
      "9\n",
      "0\n",
      "[6 7 0 5]\n",
      "[6 7 0 5 6 3 3 1 5 0 3 5 8 1 3 6 9 9 4]\n",
      "[9 6 7 0 5 6 3 3 1 5 0 3 5 8 1 3 6 9 9 4]\n"
     ]
    }
   ],
   "source": [
    "arr9 = randint(10, size=20)\n",
    "print(arr9)\n",
    "\n",
    "print(arr9[0])\n",
    "print(arr9[3])\n",
    "print(arr9[1:5])\n",
    "print(arr9[1:])\n",
    "print(arr9[:])"
   ]
  },
  {
   "cell_type": "code",
   "execution_count": 10,
   "metadata": {
    "autoscroll": "json-false",
    "collapsed": false,
    "ein.tags": [
     "worksheet-0"
    ],
    "slideshow": {
     "slide_type": "-"
    }
   },
   "outputs": [
    {
     "name": "stdout",
     "output_type": "stream",
     "text": [
      "[[9 6 7 0 5]\n",
      " [6 3 3 1 5]\n",
      " [0 3 5 8 1]\n",
      " [3 6 9 9 4]]\n",
      "[3 6 9 9 4]\n",
      "6\n",
      "6\n",
      "[[7 0 5]\n",
      " [3 1 5]\n",
      " [5 8 1]]\n",
      "[[[9 6 7 0 5]\n",
      "  [6 3 3 1 5]]\n",
      "\n",
      " [[0 3 5 8 1]\n",
      "  [3 6 9 9 4]]]\n",
      "8\n"
     ]
    }
   ],
   "source": [
    "arr10 = arr9.reshape(4, 5)\n",
    "print(arr10)\n",
    "\n",
    "print(arr10[3])\n",
    "print(arr10[3][1])\n",
    "print(arr10[3, 1])\n",
    "print(arr10[0:3, 2:])\n",
    "\n",
    "arr11 = arr9.reshape(2, 2, 5)\n",
    "print(arr11)\n",
    "\n",
    "print(arr11[1, 0, 3])"
   ]
  },
  {
   "cell_type": "code",
   "execution_count": 11,
   "metadata": {
    "autoscroll": "json-false",
    "collapsed": false,
    "ein.tags": [
     "worksheet-0"
    ],
    "slideshow": {
     "slide_type": "-"
    }
   },
   "outputs": [
    {
     "name": "stdout",
     "output_type": "stream",
     "text": [
      "['Bob' 'Joe' 'Will' 'Bob' 'Will' 'Joe' 'Joe']\n",
      "7\n",
      "<class 'numpy.ndarray'>\n",
      "[False  True False False False  True  True]\n",
      "<class 'numpy.ndarray'>\n",
      "[[ 0.35315729 -1.06819354  0.65026699 -0.60616072]\n",
      " [ 1.45870046 -0.09135071 -0.24635557 -0.954733  ]\n",
      " [ 0.63372366  0.23544665 -1.36485954  1.39764218]\n",
      " [-0.99522806 -0.71380676  0.71740036 -0.52913533]\n",
      " [-1.58612468 -0.79947465  1.25614089  1.20372138]\n",
      " [ 1.39838745  0.15158837 -0.75191843  0.86543523]\n",
      " [-1.25330993 -2.14629154 -2.40895168 -2.55402753]]\n",
      "[[ 1.45870046 -0.09135071 -0.24635557 -0.954733  ]\n",
      " [ 1.39838745  0.15158837 -0.75191843  0.86543523]\n",
      " [-1.25330993 -2.14629154 -2.40895168 -2.55402753]]\n",
      "<class 'numpy.ndarray'>\n"
     ]
    }
   ],
   "source": [
    "names = np.array(['Bob', 'Joe', 'Will', 'Bob', 'Will', 'Joe', 'Joe'])\n",
    "print(names)\n",
    "print(len(names))\n",
    "print(type(names))\n",
    "\n",
    "mask = (names == 'Joe')\n",
    "print(mask)\n",
    "print(type(mask))\n",
    "\n",
    "dat = randn(7, 4)\n",
    "print(dat)\n",
    "print(dat[mask])\n",
    "print(type(dat[mask]))"
   ]
  }
 ],
 "metadata": {
  "kernelspec": {
   "display_name": "Python 3",
   "name": "python3"
  },
  "language_info": {
   "codemirror_mode": {
    "name": "ipython",
    "version": 3
   },
   "file_extension": ".py",
   "mimetype": "text/x-python",
   "name": "python",
   "nbconvert_exporter": "python",
   "pygments_lexer": "ipython3",
   "version": "3.4.2"
  },
  "name": "day2.ipynb"
 },
 "nbformat": 4,
 "nbformat_minor": 0
}
