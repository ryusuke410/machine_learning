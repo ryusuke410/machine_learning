{
 "cells": [
  {
   "cell_type": "code",
   "execution_count": 2,
   "metadata": {
    "autoscroll": "json-false",
    "collapsed": false,
    "ein.tags": [
     "worksheet-0"
    ],
    "slideshow": {
     "slide_type": "-"
    }
   },
   "outputs": [],
   "source": [
    "import tensorflow as tf"
   ]
  },
  {
   "cell_type": "code",
   "execution_count": 3,
   "metadata": {
    "autoscroll": "json-false",
    "collapsed": false,
    "ein.tags": [
     "worksheet-0"
    ],
    "slideshow": {
     "slide_type": "-"
    }
   },
   "outputs": [
    {
     "name": "stdout",
     "output_type": "stream",
     "text": [
      "3.0\n"
     ]
    }
   ],
   "source": [
    "three = tf.constant(3.)\n",
    "\n",
    "with tf.Session() as sess:\n",
    "    print(sess.run(three))"
   ]
  },
  {
   "cell_type": "code",
   "execution_count": 4,
   "metadata": {
    "autoscroll": "json-false",
    "collapsed": false,
    "ein.tags": [
     "worksheet-0"
    ],
    "slideshow": {
     "slide_type": "-"
    }
   },
   "outputs": [
    {
     "name": "stdout",
     "output_type": "stream",
     "text": [
      "[[ 12.]]\n"
     ]
    }
   ],
   "source": [
    "matrix1 = tf.constant([[3., 3.]])\n",
    "\n",
    "matrix2 = tf.constant([[2.], [2.]])\n",
    "\n",
    "product = tf.matmul(matrix1, matrix2)\n",
    "\n",
    "with tf.Session() as sess:\n",
    "    print(sess.run(product))\n"
   ]
  },
  {
   "cell_type": "code",
   "execution_count": 0,
   "metadata": {
    "autoscroll": "json-false",
    "collapsed": false,
    "ein.tags": [
     "worksheet-0"
    ],
    "slideshow": {
     "slide_type": "-"
    }
   },
   "outputs": [],
   "source": [
    "import numpy as np\n",
    "\n",
    "arr0 = [1, 3, 5]\n",
    "arr1 = np.array([1, 3, 5])\n",
    "arr1_1 = np.array(arr0)\n",
    "print(type(arr0))\n",
    "print(type(arr1))\n",
    "print(type(arr1_1))"
   ]
  },
  {
   "cell_type": "code",
   "execution_count": 29,
   "metadata": {
    "autoscroll": "json-false",
    "collapsed": false,
    "ein.tags": [
     "worksheet-0"
    ],
    "slideshow": {
     "slide_type": "-"
    }
   },
   "outputs": [
    {
     "name": "stdout",
     "output_type": "stream",
     "text": [
      "[ 0  1  2  3  4  5  6  7  8  9 10 11 12 13 14 15 16 17 18 19]\n",
      "[[ 0  1  2  3  4]\n",
      " [ 5  6  7  8  9]\n",
      " [10 11 12 13 14]\n",
      " [15 16 17 18 19]]\n",
      "(4, 5)\n",
      "(20,)\n",
      "2\n",
      "1\n",
      "[9 4 5 4 2 7]\n"
     ]
    }
   ],
   "source": [
    "arr2 = np.arange(20)\n",
    "print(arr2)\n",
    "\n",
    "arr3 = arr2.reshape(4, 5)\n",
    "print(arr3)\n",
    "print(arr3.shape)\n",
    "print(arr2.shape)\n",
    "print(arr3.ndim)\n",
    "print(arr2.ndim)\n",
    "\n",
    "arr4 = np.random.randint(10, size=6)\n",
    "print(arr4)"
   ]
  },
  {
   "cell_type": "code",
   "execution_count": 27,
   "metadata": {
    "autoscroll": "json-false",
    "collapsed": false,
    "ein.tags": [
     "worksheet-0"
    ],
    "slideshow": {
     "slide_type": "-"
    }
   },
   "outputs": [
    {
     "name": "stdout",
     "output_type": "stream",
     "text": [
      "[[8 7 4 7 3]\n",
      " [5 2 0 7 2]\n",
      " [9 5 6 3 3]]\n",
      "[[24 21 12 21  9]\n",
      " [15  6  0 21  6]\n",
      " [27 15 18  9  9]]\n",
      "[[ 9  8  5  8  4]\n",
      " [ 6  3  1  8  3]\n",
      " [10  6  7  4  4]]\n",
      "[[4 2 8 4 5]\n",
      " [3 7 9 2 7]\n",
      " [6 8 5 1 6]]\n",
      "[[12  9 12 11  8]\n",
      " [ 8  9  9  9  9]\n",
      " [15 13 11  4  9]]\n",
      "[[32 14 32 28 15]\n",
      " [15 14  0 14 14]\n",
      " [54 40 30  3 18]]\n",
      "[[8 7 4 7 3]\n",
      " [5 2 0 7 2]\n",
      " [9 5 6 3 3]]\n",
      "[[64 49 16 49  9]\n",
      " [25  4  0 49  4]\n",
      " [81 25 36  9  9]]\n"
     ]
    }
   ],
   "source": [
    "from numpy.random import randint\n",
    "\n",
    "arr5 = randint(10, size=(3, 5))\n",
    "print(arr5)\n",
    "\n",
    "print(arr5 * 3)\n",
    "print(arr5 + 1)\n",
    "\n",
    "arr6 = randint(10, size=(3, 5))\n",
    "print(arr6)\n",
    "\n",
    "print(arr5 + arr6)\n",
    "print(arr5 * arr6)\n",
    "\n",
    "\n",
    "def sq(x):\n",
    "    return(x * x)\n",
    "\n",
    "print(arr5)\n",
    "print(sq(arr5))"
   ]
  },
  {
   "cell_type": "code",
   "execution_count": 37,
   "metadata": {
    "autoscroll": "json-false",
    "collapsed": false,
    "ein.tags": [
     "worksheet-0"
    ],
    "slideshow": {
     "slide_type": "-"
    }
   },
   "outputs": [
    {
     "name": "stdout",
     "output_type": "stream",
     "text": [
      "[-0.94022071 -0.28547594 -1.05024582 -1.10577844  2.45269578 -0.24037681\n",
      "  1.11364595 -0.17346229  1.02361108  0.60436116]\n",
      "[ 0.60928977  0.82537302 -0.40238168  1.68018668 -0.1070007 ]\n",
      "[1 8 4 1 9]\n",
      "float64\n",
      "int64\n"
     ]
    }
   ],
   "source": [
    "print(np.random.randn(10))\n",
    "\n",
    "from numpy.random import randn\n",
    "\n",
    "arr7 = randn(5)\n",
    "print(arr7)\n",
    "\n",
    "arr8 = randint(10, size=5)\n",
    "print(arr8)\n",
    "\n",
    "print(arr7.dtype)\n",
    "print(arr8.dtype)"
   ]
  },
  {
   "cell_type": "code",
   "execution_count": 33,
   "metadata": {
    "autoscroll": "json-false",
    "collapsed": false,
    "ein.tags": [
     "worksheet-0"
    ],
    "slideshow": {
     "slide_type": "-"
    }
   },
   "outputs": [
    {
     "name": "stdout",
     "output_type": "stream",
     "text": [
      "[ 0.  0.  0.  0.  0.  0.  0.  0.  0.  0.]\n",
      "[[ 0.  0.  0.  0.  0.]\n",
      " [ 0.  0.  0.  0.  0.]\n",
      " [ 0.  0.  0.  0.  0.]]\n",
      "[ 1.  1.  1.  1.  1.  1.  1.  1.  1.  1.]\n"
     ]
    }
   ],
   "source": [
    "print(np.zeros(10))\n",
    "print(np.zeros((3, 5)))\n",
    "print(np.ones(10))"
   ]
  },
  {
   "cell_type": "code",
   "execution_count": 38,
   "metadata": {
    "autoscroll": "json-false",
    "collapsed": false,
    "ein.tags": [
     "worksheet-0"
    ],
    "slideshow": {
     "slide_type": "-"
    }
   },
   "outputs": [
    {
     "name": "stdout",
     "output_type": "stream",
     "text": [
      "[6 8 4 9 8 2 0 5 6 2 4 0 0 8 7 4 4 6 8 9]\n",
      "6\n",
      "9\n",
      "[8 4 9 8]\n",
      "[8 4 9 8 2 0 5 6 2 4 0 0 8 7 4 4 6 8 9]\n",
      "[6 8 4 9 8 2 0 5 6 2 4 0 0 8 7 4 4 6 8 9]\n"
     ]
    }
   ],
   "source": [
    "arr9 = randint(10, size=20)\n",
    "print(arr9)\n",
    "\n",
    "print(arr9[0])\n",
    "print(arr9[3])\n",
    "print(arr9[1:5])\n",
    "print(arr9[1:])\n",
    "print(arr9[:])"
   ]
  },
  {
   "cell_type": "code",
   "execution_count": 42,
   "metadata": {
    "autoscroll": "json-false",
    "collapsed": false,
    "ein.tags": [
     "worksheet-0"
    ],
    "slideshow": {
     "slide_type": "-"
    }
   },
   "outputs": [
    {
     "name": "stdout",
     "output_type": "stream",
     "text": [
      "[[6 8 4 9 8]\n",
      " [2 0 5 6 2]\n",
      " [4 0 0 8 7]\n",
      " [4 4 6 8 9]]\n",
      "[4 4 6 8 9]\n",
      "4\n",
      "4\n",
      "[[4 9 8]\n",
      " [5 6 2]\n",
      " [0 8 7]]\n",
      "[[[6 8 4 9 8]\n",
      "  [2 0 5 6 2]]\n",
      "\n",
      " [[4 0 0 8 7]\n",
      "  [4 4 6 8 9]]]\n",
      "8\n"
     ]
    }
   ],
   "source": [
    "arr10 = arr9.reshape(4, 5)\n",
    "print(arr10)\n",
    "\n",
    "print(arr10[3])\n",
    "print(arr10[3][1])\n",
    "print(arr10[3, 1])\n",
    "print(arr10[0:3, 2:])\n",
    "\n",
    "arr11 = arr9.reshape(2, 2, 5)\n",
    "print(arr11)\n",
    "\n",
    "print(arr11[1, 0, 3])"
   ]
  },
  {
   "cell_type": "code",
   "execution_count": 22,
   "metadata": {
    "autoscroll": "json-false",
    "collapsed": false,
    "ein.tags": [
     "worksheet-0"
    ],
    "slideshow": {
     "slide_type": "-"
    }
   },
   "outputs": [
    {
     "name": "stdout",
     "output_type": "stream",
     "text": [
      "['Bob' 'Joe' 'Will' 'Bob' 'Will' 'Joe' 'Joe']\n",
      "7\n",
      "<class 'numpy.ndarray'>\n",
      "[False  True False False False  True  True]\n",
      "<class 'numpy.ndarray'>\n",
      "[[-0.801918   -1.10092773 -0.6696535  -0.14943817]\n",
      " [ 1.26001898  0.080592    1.7666345   0.2821165 ]\n",
      " [ 1.01424385  0.78670096 -1.53048732 -1.22931663]\n",
      " [ 0.11735186  0.3905679   0.71485113 -0.06382837]\n",
      " [-0.80671771  1.94831584  0.54022823  0.53876368]\n",
      " [ 1.75329664  0.1059435  -0.20442817 -0.35098416]\n",
      " [-0.68051927 -1.12532593 -0.69272926 -0.69538292]]\n",
      "[[ 1.26001898  0.080592    1.7666345   0.2821165 ]\n",
      " [ 1.75329664  0.1059435  -0.20442817 -0.35098416]\n",
      " [-0.68051927 -1.12532593 -0.69272926 -0.69538292]]\n",
      "<class 'numpy.ndarray'>\n"
     ]
    }
   ],
   "source": [
    "names = np.array(['Bob', 'Joe', 'Will', 'Bob', 'Will', 'Joe', 'Joe'])\n",
    "print(names)\n",
    "print(len(names))\n",
    "print(type(names))\n",
    "\n",
    "mask = (names == 'Joe')\n",
    "print(mask)\n",
    "print(type(mask))\n",
    "\n",
    "dat = randn(7, 4)\n",
    "print(dat)\n",
    "print(dat[mask])\n",
    "print(type(dat[mask]))"
   ]
  }
 ],
 "metadata": {
  "kernelspec": {
   "display_name": "Python 3",
   "name": "python3"
  },
  "language_info": {
   "codemirror_mode": {
    "name": "ipython",
    "version": 3
   },
   "file_extension": ".py",
   "mimetype": "text/x-python",
   "name": "python",
   "nbconvert_exporter": "python",
   "pygments_lexer": "ipython3",
   "version": "3.4.2"
  },
  "name": "day2.ipynb"
 },
 "nbformat": 4,
 "nbformat_minor": 0
}
