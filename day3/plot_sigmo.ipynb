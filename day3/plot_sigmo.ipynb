{
 "cells": [
  {
   "cell_type": "markdown",
   "metadata": {
    "ein.tags": [
     "worksheet-0"
    ],
    "slideshow": {
     "slide_type": "-"
    }
   },
   "source": [
    "* Create a directory named `outputs` as an immediate sub-directory of\n",
    "the direcotory in which this file(`treat_img.ipynb`) lies. If, for\n",
    "example, the full-path of this file is `~/day3/treat_img.ipynb`,\n",
    "create `~/day3/outputs/`."
   ]
  },
  {
   "cell_type": "code",
   "execution_count": 1,
   "metadata": {
    "autoscroll": "json-false",
    "collapsed": false,
    "ein.tags": [
     "worksheet-0"
    ],
    "slideshow": {
     "slide_type": "-"
    }
   },
   "outputs": [],
   "source": [
    "sv_loc = \"./outputs/\"\n",
    "# \"./\" indicates the directory where this file immediately inhabits.\n",
    "\n",
    "sv_loc2 = \"~/tensorflow/machine_learning/day3/outputs/\""
   ]
  },
  {
   "cell_type": "code",
   "execution_count": 2,
   "metadata": {
    "autoscroll": "json-false",
    "collapsed": false,
    "ein.tags": [
     "worksheet-0"
    ],
    "slideshow": {
     "slide_type": "-"
    }
   },
   "outputs": [
    {
     "name": "stdout",
     "output_type": "stream",
     "text": [
      "Hellow World!\n"
     ]
    }
   ],
   "source": [
    "with open(\"./hw.py\") as f:\n",
    "    exec(f.read())"
   ]
  },
  {
   "cell_type": "code",
   "execution_count": 3,
   "metadata": {
    "autoscroll": "json-false",
    "collapsed": false,
    "ein.tags": [
     "worksheet-0"
    ],
    "slideshow": {
     "slide_type": "-"
    }
   },
   "outputs": [],
   "source": [
    "import tensorflow as tf\n",
    "import numpy as np\n",
    "import matplotlib.pyplot as plt\n",
    "%matplotlib inline\n",
    "# sv_loc = \"/home/ulily/tensorflow/machine_learning/day3/outputs/\""
   ]
  },
  {
   "cell_type": "code",
   "execution_count": 4,
   "metadata": {
    "autoscroll": "json-false",
    "collapsed": false,
    "ein.tags": [
     "worksheet-0"
    ],
    "slideshow": {
     "slide_type": "-"
    }
   },
   "outputs": [
    {
     "data": {
      "text/plain": [
       "<matplotlib.figure.Figure at 0x7fdda8b87668>"
      ]
     },
     "metadata": {},
     "output_type": "display_data"
    }
   ],
   "source": [
    "fig = plt.figure()\n",
    "subplot = fig.add_subplot(1, 1, 1)\n",
    "fig.savefig(sv_loc + \"fig1.png\")\n",
    "fig.clf()  # close the figure"
   ]
  },
  {
   "cell_type": "code",
   "execution_count": 5,
   "metadata": {
    "autoscroll": "json-false",
    "collapsed": false,
    "ein.tags": [
     "worksheet-0"
    ],
    "slideshow": {
     "slide_type": "-"
    }
   },
   "outputs": [
    {
     "data": {
      "text/plain": [
       "<matplotlib.figure.Figure at 0x7fdd78cbc048>"
      ]
     },
     "metadata": {},
     "output_type": "display_data"
    }
   ],
   "source": [
    "fig = plt.figure()\n",
    "subplot1 = fig.add_subplot(2, 4, 1)\n",
    "subplot1 = fig.add_subplot(2, 4, 2)\n",
    "subplot1 = fig.add_subplot(2, 4, 3)\n",
    "subplot1 = fig.add_subplot(2, 4, 4)\n",
    "subplot1 = fig.add_subplot(2, 4, 5)\n",
    "subplot1 = fig.add_subplot(2, 4, 6)\n",
    "subplot1 = fig.add_subplot(2, 4, 7)\n",
    "subplot1 = fig.add_subplot(2, 4, 8)\n",
    "fig.savefig(sv_loc + \"fig2.png\")\n",
    "fig.clf()"
   ]
  },
  {
   "cell_type": "code",
   "execution_count": 6,
   "metadata": {
    "autoscroll": "json-false",
    "collapsed": false,
    "ein.tags": [
     "worksheet-0"
    ],
    "slideshow": {
     "slide_type": "-"
    }
   },
   "outputs": [
    {
     "data": {
      "text/plain": [
       "<matplotlib.figure.Figure at 0x7fdd78adbe48>"
      ]
     },
     "metadata": {},
     "output_type": "display_data"
    }
   ],
   "source": [
    "fig = plt.figure()\n",
    "subplot1 = fig.add_subplot(1, 3, 1)\n",
    "subplot2 = fig.add_subplot(1, 3, 2)\n",
    "subplot3 = fig.add_subplot(1, 3, 3)\n",
    "xs = np.random.randn(100)\n",
    "ys = np.random.randn(100)\n",
    "subplot1.plot(xs, ys, color='blue')\n",
    "subplot2.scatter(xs, ys, color='red')\n",
    "subplot3.scatter(xs, ys)\n",
    "fig.savefig(sv_loc + \"fig3.png\")\n",
    "fig.clf()"
   ]
  },
  {
   "cell_type": "code",
   "execution_count": 7,
   "metadata": {
    "autoscroll": "json-false",
    "collapsed": false,
    "ein.tags": [
     "worksheet-0"
    ],
    "slideshow": {
     "slide_type": "-"
    }
   },
   "outputs": [
    {
     "data": {
      "text/plain": [
       "<matplotlib.figure.Figure at 0x7fdd7893a2b0>"
      ]
     },
     "metadata": {},
     "output_type": "display_data"
    }
   ],
   "source": [
    "input = tf.placeholder(tf.float32)\n",
    "sigmo = tf.sigmoid(input)\n",
    "xs = np.arange(-5, 5, 0.01)\n",
    "with tf.Session() as sess:\n",
    "    ys = sess.run(sigmo, feed_dict = {input: xs})\n",
    "\n",
    "fig = plt.figure()\n",
    "subplot = fig.add_subplot(1, 1, 1)\n",
    "subplot.plot(xs, ys)\n",
    "fig.savefig(sv_loc + \"fig4.png\")\n",
    "fig.clf()"
   ]
  }
 ],
 "metadata": {
  "kernelspec": {
   "display_name": "Python 3",
   "name": "python3"
  },
  "name": "plot_sigmo.ipynb"
 },
 "nbformat": 4,
 "nbformat_minor": 1
}
