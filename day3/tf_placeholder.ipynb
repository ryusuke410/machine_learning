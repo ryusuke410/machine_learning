{
 "cells": [
  {
   "cell_type": "code",
   "execution_count": 1,
   "metadata": {
    "autoscroll": "json-false",
    "collapsed": false,
    "ein.tags": [
     "worksheet-0"
    ],
    "slideshow": {
     "slide_type": "-"
    }
   },
   "outputs": [],
   "source": [
    "import tensorflow as tf\n",
    "import numpy as np"
   ]
  },
  {
   "cell_type": "code",
   "execution_count": 2,
   "metadata": {
    "autoscroll": "json-false",
    "collapsed": false,
    "ein.tags": [
     "worksheet-0"
    ],
    "slideshow": {
     "slide_type": "-"
    }
   },
   "outputs": [
    {
     "name": "stdout",
     "output_type": "stream",
     "text": [
      "[[ 0  1  2  3  4  5  6  7  8  9]\n",
      " [10 11 12 13 14 15 16 17 18 19]]\n",
      "[[10 11 12 13 14 15 16 17 18 19]\n",
      " [20 21 22 23 24 25 26 27 28 29]]\n",
      "[[   0.   11.   24.   39.   56.   75.   96.  119.  144.  171.]\n",
      " [ 200.  231.  264.  299.  336.  375.  416.  459.  504.  551.]]\n",
      "[  735.  3635.]\n",
      "[ 200.  242.  288.  338.  392.  450.  512.  578.  648.  722.]\n"
     ]
    }
   ],
   "source": [
    "x1 = tf.placeholder(tf.float32, [None, 10])\n",
    "x2 = tf.placeholder(tf.float32, [None, 10])\n",
    "prod = x1 * x2  # product by elements\n",
    "innprd = tf.reduce_sum(prod, reduction_indices=[1])\n",
    "vectorsum =  tf.reduce_sum(prod, reduction_indices=[0])\n",
    "dat1 = np.arange(20).reshape(2, 10)\n",
    "dat2 = np.arange(10,30).reshape(2, 10)\n",
    "print(dat1)\n",
    "print(dat2)\n",
    "with tf.Session() as sess:\n",
    "    result = sess.run((prod, innprd, vectorsum),\n",
    "                   feed_dict={x1: dat1, x2: dat2})\n",
    "print(result[0])  # prod\n",
    "print(result[1])  # innprd\n",
    "print(result[2])  # vectorsum"
   ]
  },
  {
   "cell_type": "code",
   "execution_count": 3,
   "metadata": {
    "autoscroll": "json-false",
    "collapsed": false,
    "ein.tags": [
     "worksheet-0"
    ],
    "slideshow": {
     "slide_type": "-"
    }
   },
   "outputs": [],
   "source": [
    "matrix1 = tf.constant([[3., 3.]]) #1x2\n",
    "matrix1_1 = tf.constant([3., 3.])\n",
    "matrix2 = tf.constant([[2.],[2.]]) #2x1\n",
    "product = tf.matmul(matrix1, matrix2)\n",
    "# product_1 = tf.matmul(matrix1_1, matrix2)\n",
    "# => incorrect about the shape (dimension)\n",
    "matrix3 = tf.constant([[2]]) #1x1\n",
    "matrix4 = tf.constant([[1, 2, 3]]) #1x3\n",
    "product1 = tf.matmul(matrix3, matrix4)\n",
    "\n"
   ]
  },
  {
   "cell_type": "code",
   "execution_count": 4,
   "metadata": {
    "autoscroll": "json-false",
    "collapsed": false,
    "ein.tags": [
     "worksheet-0"
    ],
    "slideshow": {
     "slide_type": "-"
    }
   },
   "outputs": [
    {
     "name": "stdout",
     "output_type": "stream",
     "text": [
      "0\n",
      "1\n",
      "2\n",
      "3\n"
     ]
    }
   ],
   "source": [
    "state = tf.Variable(0, name=\"counter\")\n",
    "one = tf.constant(1)\n",
    "new_value = tf.add(state, one)\n",
    "# new_value = tf.sub(state, one)\n",
    "update = tf.assign(state, new_value)\n",
    "\n",
    "init_op = tf.initialize_all_variables()\n",
    "\n",
    "with tf.Session() as sess:\n",
    "    sess.run(init_op)\n",
    "    print(sess.run(state))\n",
    "    for _ in range(3):\n",
    "        sess.run(update)\n",
    "        print(sess.run(state))"
   ]
  },
  {
   "cell_type": "code",
   "execution_count": 5,
   "metadata": {
    "autoscroll": "json-false",
    "collapsed": false,
    "ein.tags": [
     "worksheet-0"
    ],
    "slideshow": {
     "slide_type": "-"
    }
   },
   "outputs": [
    {
     "name": "stdout",
     "output_type": "stream",
     "text": [
      "[5 3 7 4 1 8 9 2 0 6]\n",
      "[2 4 3 7 5 6 9 0 8 1]\n",
      "[array([ 10.,  12.,  21.,  28.,   5.,  48.,  81.,   0.,   0.,   6.], dtype=float32)]\n",
      "211.0\n"
     ]
    }
   ],
   "source": [
    "input1 = tf.placeholder(tf.float32)\n",
    "input2 = tf.placeholder(tf.float32)\n",
    "output = tf.mul(input1, input2)\n",
    "ar0 = np.arange(10)\n",
    "ar1 = np.arange(10)\n",
    "np.random.shuffle(ar0)\n",
    "np.random.shuffle(ar1)\n",
    "\n",
    "print(ar0)\n",
    "print(ar1)\n",
    "\n",
    "with tf.Session() as sess:\n",
    "    result = sess.run([output], feed_dict = {input1:ar0, input2:ar1})\n",
    "\n",
    "print(result)\n",
    "print(np.sum(result))\n",
    "    "
   ]
  },
  {
   "cell_type": "code",
   "execution_count": 6,
   "metadata": {
    "autoscroll": "json-false",
    "collapsed": false,
    "ein.tags": [
     "worksheet-0"
    ],
    "slideshow": {
     "slide_type": "-"
    }
   },
   "outputs": [
    {
     "name": "stdout",
     "output_type": "stream",
     "text": [
      "[ -3.00000000e+00  -2.80000000e+00  -2.60000000e+00  -2.40000000e+00\n",
      "  -2.20000000e+00  -2.00000000e+00  -1.80000000e+00  -1.60000000e+00\n",
      "  -1.40000000e+00  -1.20000000e+00  -1.00000000e+00  -8.00000000e-01\n",
      "  -6.00000000e-01  -4.00000000e-01  -2.00000000e-01   2.66453526e-15\n",
      "   2.00000000e-01   4.00000000e-01   6.00000000e-01   8.00000000e-01\n",
      "   1.00000000e+00   1.20000000e+00   1.40000000e+00   1.60000000e+00\n",
      "   1.80000000e+00   2.00000000e+00   2.20000000e+00   2.40000000e+00\n",
      "   2.60000000e+00   2.80000000e+00]\n",
      "[array([ 0.04742587,  0.05732417,  0.06913843,  0.08317269,  0.09975048,\n",
      "        0.11920292,  0.14185107,  0.16798161,  0.1978161 ,  0.23147522,\n",
      "        0.26894143,  0.31002551,  0.35434371,  0.40131235,  0.45016602,\n",
      "        0.5       ,  0.54983395,  0.59868765,  0.64565629,  0.68997449,\n",
      "        0.7310586 ,  0.76852483,  0.80218393,  0.83201838,  0.85814887,\n",
      "        0.88079703,  0.90024954,  0.91682732,  0.93086159,  0.94267583], dtype=float32)]\n"
     ]
    }
   ],
   "source": [
    "input5 = tf.placeholder(tf.float32)\n",
    "sigmo = tf.sigmoid(input5)\n",
    "ar2 = np.arange(-3, 3, 0.2)\n",
    "print(ar2)\n",
    "with tf.Session() as sess:\n",
    "    print(sess.run([sigmo], feed_dict = {input5: ar2}))"
   ]
  }
 ],
 "metadata": {
  "kernelspec": {
   "display_name": "Python 3",
   "name": "python3"
  },
  "name": "tf_placeholder.ipynb"
 },
 "nbformat": 4,
 "nbformat_minor": 0
}
